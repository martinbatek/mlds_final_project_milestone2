{
 "cells": [
  {
   "cell_type": "code",
   "execution_count": 1,
   "metadata": {},
   "outputs": [],
   "source": [
    "# Run preamble script\n",
    "%run preamble.ipynb"
   ]
  },
  {
   "cell_type": "code",
   "execution_count": 4,
   "metadata": {},
   "outputs": [],
   "source": [
    "# Define function that retireves data from S3\n",
    "def retrive_s3_data(data_name, data_specs=data_specs,sample=10000,save_dir='../../data/'):\n",
    "    dataset_specs = data_specs[data_name]\n",
    "    data = pd.read_csv(\n",
    "        dataset_specs['path'],\n",
    "        delimiter=dataset_specs['delimiter'],\n",
    "        storage_options={\n",
    "            'key': aws_access_key_id,\n",
    "            'secret': aws_secret_access_key\n",
    "        },\n",
    "        nrows = sample,\n",
    "        header=dataset_specs['header'],\n",
    "        names=dataset_specs['names'],\n",
    "        dtype=dataset_specs['dtype']\n",
    "        )\n",
    "    data.to_csv(f'{save_dir}{data_name}.csv', index=False)"
   ]
  },
  {
   "cell_type": "code",
   "execution_count": 5,
   "metadata": {},
   "outputs": [],
   "source": [
    "# Retrive first 10000 rows of kdd12 data\n",
    "kdd12_datasets = [\"kdd12_training\",\"kdd12_test\",\"kdd12_descriptions\",\"kdd12_titles\",\"kdd12_query\",\"kdd12_keywords\",\"kdd12_user\"]\n",
    "for dataset in kdd12_datasets:\n",
    "    retrive_s3_data(dataset, data_specs, 10000, '../../data/kdd12/')"
   ]
  }
 ],
 "metadata": {
  "kernelspec": {
   "display_name": "base",
   "language": "python",
   "name": "python3"
  },
  "language_info": {
   "codemirror_mode": {
    "name": "ipython",
    "version": 3
   },
   "file_extension": ".py",
   "mimetype": "text/x-python",
   "name": "python",
   "nbconvert_exporter": "python",
   "pygments_lexer": "ipython3",
   "version": "3.11.5"
  }
 },
 "nbformat": 4,
 "nbformat_minor": 2
}
