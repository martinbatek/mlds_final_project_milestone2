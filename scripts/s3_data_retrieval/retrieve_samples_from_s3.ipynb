{
 "cells": [
  {
   "cell_type": "code",
   "execution_count": 1,
   "metadata": {},
   "outputs": [],
   "source": [
    "# Import necessary libraries\n",
    "import pandas as pd\n",
    "\n",
    "# Set sample size\n",
    "n = 500000"
   ]
  },
  {
   "cell_type": "code",
   "execution_count": 2,
   "metadata": {},
   "outputs": [],
   "source": [
    "# Read in kdd training from S3\n",
    "kdd12_data = pd.read_csv(\n",
    "    's3://mlds-final-project-bucket/kdd12/train/training/training.txt',\n",
    "    delimiter='\\t',\n",
    "    nrows = n,\n",
    "    header=None,\n",
    "    names=['Click','Impression','DisplayURL','AdID','AdvertiserID','Depth','Position','QueryID','KeywordID','TitleID','DescriptionID','UserID']\n",
    "    )\n",
    "kdd12_data.to_csv('../../data/kdd12/kdd12_training.csv', index=False)"
   ]
  },
  {
   "cell_type": "code",
   "execution_count": 3,
   "metadata": {},
   "outputs": [],
   "source": [
    "# Read in avazu training data from S3\n",
    "avazu_training_data = pd.read_csv(\n",
    "    's3://mlds-final-project-bucket/avazu/train/train.csv',\n",
    "    nrows = n\n",
    "    )\n",
    "avazu_training_data.to_csv('../../data/avazu/avazu_train.csv', index=False)"
   ]
  },
  {
   "cell_type": "code",
   "execution_count": 4,
   "metadata": {},
   "outputs": [],
   "source": [
    "# Create column name list as per the README file\n",
    "criteo_names = ['click']\n",
    "for i in range(1, 14):\n",
    "    criteo_names.append('int_{0}'.format(i))\n",
    "\n",
    "for i in range(1, 27):\n",
    "    criteo_names.append('cat_{0}'.format(i))\n",
    "\n",
    "# Read in criteo training data from S3\n",
    "criteo_training_data = pd.read_csv(\n",
    "    's3://mlds-final-project-bucket/dac/train/train.txt',\n",
    "    nrows = n,\n",
    "    sep='\\t',\n",
    "    header=None,\n",
    "    names=criteo_names\n",
    "    )\n",
    "criteo_training_data.to_csv('../../data/criteo/criteo_train.csv', index=False)"
   ]
  }
 ],
 "metadata": {
  "kernelspec": {
   "display_name": "base",
   "language": "python",
   "name": "python3"
  },
  "language_info": {
   "codemirror_mode": {
    "name": "ipython",
    "version": 3
   },
   "file_extension": ".py",
   "mimetype": "text/x-python",
   "name": "python",
   "nbconvert_exporter": "python",
   "pygments_lexer": "ipython3",
   "version": "3.11.5"
  }
 },
 "nbformat": 4,
 "nbformat_minor": 2
}
