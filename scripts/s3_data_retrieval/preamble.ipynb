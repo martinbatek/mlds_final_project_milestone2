{
 "cells": [
  {
   "cell_type": "code",
   "execution_count": null,
   "metadata": {},
   "outputs": [],
   "source": [
    "# Import necessary libraries\n",
    "import os\n",
    "import pandas as pd\n",
    "import configparser\n",
    "import json\n",
    "import boto3\n",
    "\n",
    "# Get AWS credentials\n",
    "aws_cred_filepath = os.path.join(os.path.expanduser(\"~\"), '.aws', 'credentials')\n",
    "aws_credentials = configparser.ConfigParser()\n",
    "aws_credentials.read(aws_cred_filepath)\n",
    "aws_access_key_id = aws_credentials.get('default', 'aws_access_key_id')\n",
    "aws_secret_access_key = aws_credentials.get('default', 'aws_secret_access_key')\n",
    "\n",
    "## Load data specs dict\n",
    "with open('../../data/dataset_specs.json', 'r') as f:\n",
    "    data_specs = json.load(f)\n",
    "f.close()"
   ]
  }
 ],
 "metadata": {
  "language_info": {
   "name": "python"
  }
 },
 "nbformat": 4,
 "nbformat_minor": 2
}
