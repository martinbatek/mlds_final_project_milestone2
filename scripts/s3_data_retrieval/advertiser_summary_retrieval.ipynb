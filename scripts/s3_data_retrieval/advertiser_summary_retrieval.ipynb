{
 "cells": [
  {
   "cell_type": "code",
   "execution_count": 2,
   "metadata": {},
   "outputs": [],
   "source": [
    "# Run the preamble script to load the necessary libraries and functions\n",
    "%run preamble.ipynb"
   ]
  },
  {
   "cell_type": "code",
   "execution_count": 3,
   "metadata": {},
   "outputs": [],
   "source": [
    "# Load and export the data\n",
    "import boto3\n",
    "\n",
    "# list all objects in the bucket\n",
    "s3 = boto3.resource('s3', aws_access_key_id=aws_access_key_id, aws_secret_access_key=aws_secret_access_key)\n",
    "bucket = s3.Bucket('mlds-final-project-bucket')\n",
    "objects = []\n",
    "for obj in bucket.objects.filter(Prefix=\"kdd12/outputs/advertizers_aggregated/\"):\n",
    "    objects.append(obj.key)\n",
    "objects = objects[1:]\n",
    "\n",
    "# read objects as pandas dataframes\n",
    "dfs = []\n",
    "for obj in objects:\n",
    "    dfs.append(pd.read_csv('s3://mlds-final-project-bucket/{0}'.format(obj), storage_options={'key': aws_access_key_id, 'secret': aws_secret_access_key}))\n",
    "output = pd.concat(dfs)\n",
    "output.to_csv('../../data/kdd12/advertizers_aggregated.csv', index=False)"
   ]
  }
 ],
 "metadata": {
  "kernelspec": {
   "display_name": "base",
   "language": "python",
   "name": "python3"
  },
  "language_info": {
   "codemirror_mode": {
    "name": "ipython",
    "version": 3
   },
   "file_extension": ".py",
   "mimetype": "text/x-python",
   "name": "python",
   "nbconvert_exporter": "python",
   "pygments_lexer": "ipython3",
   "version": "3.11.5"
  }
 },
 "nbformat": 4,
 "nbformat_minor": 2
}
