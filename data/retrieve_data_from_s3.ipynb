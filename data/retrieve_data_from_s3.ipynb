{
 "cells": [
  {
   "cell_type": "code",
   "execution_count": 7,
   "metadata": {},
   "outputs": [],
   "source": [
    "# Import necessary libraries\n",
    "import os\n",
    "import pandas as pd\n",
    "import configparser"
   ]
  },
  {
   "cell_type": "code",
   "execution_count": 8,
   "metadata": {},
   "outputs": [],
   "source": [
    "# Get AWS credentials\n",
    "aws_cred_filepath = os.path.join(os.path.expanduser(\"~\"), '.aws', 'credentials')\n",
    "aws_credentials = configparser.ConfigParser()\n",
    "aws_credentials.read(aws_cred_filepath)\n",
    "aws_access_key_id = aws_credentials.get('default', 'aws_access_key_id')\n",
    "aws_secret_access_key = aws_credentials.get('default', 'aws_secret_access_key')"
   ]
  },
  {
   "cell_type": "code",
   "execution_count": 13,
   "metadata": {},
   "outputs": [],
   "source": [
    "# Read in data from S3\n",
    "s3_bucket = 's3://mlds-final-project-bucket/'\n",
    "s3_data_path = 'kdd12/train/training.txt'\n",
    "s3_data_url = s3_bucket + s3_data_path\n",
    "data = pd.read_csv(\n",
    "    s3_data_url,\n",
    "    delimiter='\\t',\n",
    "    storage_options={\n",
    "        'key': aws_access_key_id,\n",
    "        'secret': aws_secret_access_key\n",
    "    },\n",
    "    nrows = 10000,\n",
    "    header=None,\n",
    "    names=['Click','Impression','DisplayURL','AdID','AdvertiserID','Depth','Position','QueryID','KeywordID','TitleID','DescriptionID','UserID']\n",
    "    )"
   ]
  },
  {
   "cell_type": "code",
   "execution_count": 14,
   "metadata": {},
   "outputs": [
    {
     "data": {
      "text/html": [
       "<div>\n",
       "<style scoped>\n",
       "    .dataframe tbody tr th:only-of-type {\n",
       "        vertical-align: middle;\n",
       "    }\n",
       "\n",
       "    .dataframe tbody tr th {\n",
       "        vertical-align: top;\n",
       "    }\n",
       "\n",
       "    .dataframe thead th {\n",
       "        text-align: right;\n",
       "    }\n",
       "</style>\n",
       "<table border=\"1\" class=\"dataframe\">\n",
       "  <thead>\n",
       "    <tr style=\"text-align: right;\">\n",
       "      <th></th>\n",
       "      <th>Click</th>\n",
       "      <th>Impression</th>\n",
       "      <th>DisplayURL</th>\n",
       "      <th>AdID</th>\n",
       "      <th>AdvertiserID</th>\n",
       "      <th>Depth</th>\n",
       "      <th>Position</th>\n",
       "      <th>QueryID</th>\n",
       "      <th>KeywordID</th>\n",
       "      <th>TitleID</th>\n",
       "      <th>DescriptionID</th>\n",
       "      <th>UserID</th>\n",
       "    </tr>\n",
       "  </thead>\n",
       "  <tbody>\n",
       "    <tr>\n",
       "      <th>0</th>\n",
       "      <td>0</td>\n",
       "      <td>1</td>\n",
       "      <td>4298118681424644510</td>\n",
       "      <td>7686695</td>\n",
       "      <td>385</td>\n",
       "      <td>3</td>\n",
       "      <td>3</td>\n",
       "      <td>1601</td>\n",
       "      <td>5521</td>\n",
       "      <td>7709</td>\n",
       "      <td>576</td>\n",
       "      <td>490234</td>\n",
       "    </tr>\n",
       "    <tr>\n",
       "      <th>1</th>\n",
       "      <td>0</td>\n",
       "      <td>1</td>\n",
       "      <td>4860571499428580850</td>\n",
       "      <td>21560664</td>\n",
       "      <td>37484</td>\n",
       "      <td>2</td>\n",
       "      <td>2</td>\n",
       "      <td>2255103</td>\n",
       "      <td>317</td>\n",
       "      <td>48989</td>\n",
       "      <td>44771</td>\n",
       "      <td>490234</td>\n",
       "    </tr>\n",
       "    <tr>\n",
       "      <th>2</th>\n",
       "      <td>0</td>\n",
       "      <td>1</td>\n",
       "      <td>9704320783495875564</td>\n",
       "      <td>21748480</td>\n",
       "      <td>36759</td>\n",
       "      <td>3</td>\n",
       "      <td>3</td>\n",
       "      <td>4532751</td>\n",
       "      <td>60721</td>\n",
       "      <td>685038</td>\n",
       "      <td>29681</td>\n",
       "      <td>490234</td>\n",
       "    </tr>\n",
       "    <tr>\n",
       "      <th>3</th>\n",
       "      <td>0</td>\n",
       "      <td>1</td>\n",
       "      <td>13677630321509009335</td>\n",
       "      <td>3517124</td>\n",
       "      <td>23778</td>\n",
       "      <td>3</td>\n",
       "      <td>1</td>\n",
       "      <td>1601</td>\n",
       "      <td>2155</td>\n",
       "      <td>1207</td>\n",
       "      <td>1422</td>\n",
       "      <td>490234</td>\n",
       "    </tr>\n",
       "    <tr>\n",
       "      <th>4</th>\n",
       "      <td>0</td>\n",
       "      <td>1</td>\n",
       "      <td>3284760244799604489</td>\n",
       "      <td>20758093</td>\n",
       "      <td>34535</td>\n",
       "      <td>1</td>\n",
       "      <td>1</td>\n",
       "      <td>4532751</td>\n",
       "      <td>77819</td>\n",
       "      <td>266618</td>\n",
       "      <td>222223</td>\n",
       "      <td>490234</td>\n",
       "    </tr>\n",
       "  </tbody>\n",
       "</table>\n",
       "</div>"
      ],
      "text/plain": [
       "   Click  Impression            DisplayURL      AdID  AdvertiserID  Depth  \\\n",
       "0      0           1   4298118681424644510   7686695           385      3   \n",
       "1      0           1   4860571499428580850  21560664         37484      2   \n",
       "2      0           1   9704320783495875564  21748480         36759      3   \n",
       "3      0           1  13677630321509009335   3517124         23778      3   \n",
       "4      0           1   3284760244799604489  20758093         34535      1   \n",
       "\n",
       "   Position  QueryID  KeywordID  TitleID  DescriptionID  UserID  \n",
       "0         3     1601       5521     7709            576  490234  \n",
       "1         2  2255103        317    48989          44771  490234  \n",
       "2         3  4532751      60721   685038          29681  490234  \n",
       "3         1     1601       2155     1207           1422  490234  \n",
       "4         1  4532751      77819   266618         222223  490234  "
      ]
     },
     "execution_count": 14,
     "metadata": {},
     "output_type": "execute_result"
    }
   ],
   "source": [
    "data.head()"
   ]
  },
  {
   "cell_type": "code",
   "execution_count": 15,
   "metadata": {},
   "outputs": [
    {
     "data": {
      "text/plain": [
       "(10000, 12)"
      ]
     },
     "execution_count": 15,
     "metadata": {},
     "output_type": "execute_result"
    }
   ],
   "source": [
    "data.shape"
   ]
  }
 ],
 "metadata": {
  "kernelspec": {
   "display_name": "base",
   "language": "python",
   "name": "python3"
  },
  "language_info": {
   "codemirror_mode": {
    "name": "ipython",
    "version": 3
   },
   "file_extension": ".py",
   "mimetype": "text/x-python",
   "name": "python",
   "nbconvert_exporter": "python",
   "pygments_lexer": "ipython3",
   "version": "3.11.5"
  }
 },
 "nbformat": 4,
 "nbformat_minor": 2
}
