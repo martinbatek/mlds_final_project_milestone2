{
 "cells": [
  {
   "cell_type": "markdown",
   "metadata": {},
   "source": [
    "# Introduction"
   ]
  },
  {
   "cell_type": "code",
   "execution_count": 2,
   "metadata": {},
   "outputs": [],
   "source": [
    "# Preamble\n",
    "## Imports\n",
    "import pandas as pd\n",
    "from IPython.display import display\n",
    "import matplotlib.pyplot as plt\n",
    "import numpy as np"
   ]
  },
  {
   "cell_type": "markdown",
   "metadata": {},
   "source": [
    "The global digital advertising market is worth approximately $602 billion today. Due to the increasing rate of of online participation since the COVID-19 pandemic, this number has been rapidly increasing and is expected to reach $871 billion by the end of 2027 ([eMarketer, 2024](#eMarketer)). Many of the of the major Ad platforms such as Google, Facebook and Amazon operate on a cost-per-user-engagement pricing model, which usually means that advertisers get charged for every time a user clicks on an advertisment. This means that these platforms are incentivized to make sure that the content shown to each user is as relevent as possible in order to maximize the number of clicks in the long term. Attaining accurate Click-Through Rate (CTR) prediction is a necessary first step for Ad persionalization, which is why study of CTR prediction methods have been an extremely active part of Machine Learning research over the past through years.\n",
    "\n",
    "Initially, shallow prediction methods such as XGBoost (Cite), Factorization Machines (Cite) and Field-Aware Factorization Machines (Cite) have been used for CTR prediction. However, these methods have often been shown to be unable to capture the higher order feature interactions in the sparse multy value categorical Ad Marketplace datasets (Cite). Since then, Deep Learning methods have been shown to show superior predictive ability on these datasets. The focus of my reasearch project is therefore to explore the merits of different Deep Learning architechtures for click-through rate prediction\n",
    "\n",
    "In the following report, I explore the relevant datasets and simulations that I will be using throughout my research project. In the first section, I perform an exploratory data analysis on three widely adopted benchmark CTR prediction datasets; the KDD12 ([Aden, 2012](#kdd12)), Avazu ([Wang and Cukierski, 2014](#avazu)) and Criteo ([Tien et al, 2014](#criteo)) datasets. In the second section, I then explore possible ways of simulating the ad marketplace environment in order to test the reinforcement learning framework."
   ]
  },
  {
   "cell_type": "markdown",
   "metadata": {},
   "source": [
    "# Datasets"
   ]
  },
  {
   "cell_type": "markdown",
   "metadata": {},
   "source": [
    "## KDD12"
   ]
  },
  {
   "cell_type": "markdown",
   "metadata": {},
   "source": [
    "The __KDD12__ dataset was first released for the KDD Cup 2012 competition (Cite), with the original task being to predict the number of clicks for a given number of impressions. Each line represents a training instance derived from the session logs for the advertizing marketplace. In the context of this dataset, a \"session\" refers to an interaction between a user and the search engine, containing the following components; the user, a list of adverts returned by the search engine and shown (impressed) to the user and zero or more adverts clicked on by the user. Each line in the training set includes:\n",
    "\n",
    "- __Clicks__: The number of times the user has clicked on the given Ad among the relevant Impressions.\n",
    "- __Impressions__: The number of search sessions in which the Ad was impressed by the user after issuing the specific Query.\n",
    "- __Display URL__: The URL link displayed along with the advert.\n",
    "- __Ad ID__: An identifier for each advertisment.\n",
    "- __Advertiser ID__: An identifier that specified the company that issued the advertisment.\n",
    "- __Depth__: The number of Ads that the user viewed (impressed) in a session. \n",
    "- __Position__: The order in which the specific advert was displayed to the user within the session.\n",
    "- __Query ID__\n",
    "- __Keyword ID__\n",
    "- __Title ID__\n",
    "- __Description ID__\n",
    "- __User ID__\n",
    "\n",
    "Below, I show a sample of records in the training set:"
   ]
  },
  {
   "cell_type": "code",
   "execution_count": 8,
   "metadata": {},
   "outputs": [
    {
     "data": {
      "text/html": [
       "<div>\n",
       "<style scoped>\n",
       "    .dataframe tbody tr th:only-of-type {\n",
       "        vertical-align: middle;\n",
       "    }\n",
       "\n",
       "    .dataframe tbody tr th {\n",
       "        vertical-align: top;\n",
       "    }\n",
       "\n",
       "    .dataframe thead th {\n",
       "        text-align: right;\n",
       "    }\n",
       "</style>\n",
       "<table border=\"1\" class=\"dataframe\">\n",
       "  <thead>\n",
       "    <tr style=\"text-align: right;\">\n",
       "      <th></th>\n",
       "      <th>Click</th>\n",
       "      <th>Impression</th>\n",
       "      <th>DisplayURL</th>\n",
       "      <th>AdID</th>\n",
       "      <th>AdvertiserID</th>\n",
       "      <th>Depth</th>\n",
       "      <th>Position</th>\n",
       "      <th>QueryID</th>\n",
       "      <th>KeywordID</th>\n",
       "      <th>TitleID</th>\n",
       "      <th>DescriptionID</th>\n",
       "      <th>UserID</th>\n",
       "    </tr>\n",
       "  </thead>\n",
       "  <tbody>\n",
       "    <tr>\n",
       "      <th>0</th>\n",
       "      <td>0</td>\n",
       "      <td>1</td>\n",
       "      <td>4298118681424644510</td>\n",
       "      <td>7686695</td>\n",
       "      <td>385</td>\n",
       "      <td>3</td>\n",
       "      <td>3</td>\n",
       "      <td>1601</td>\n",
       "      <td>5521</td>\n",
       "      <td>7709</td>\n",
       "      <td>576</td>\n",
       "      <td>490234</td>\n",
       "    </tr>\n",
       "    <tr>\n",
       "      <th>1</th>\n",
       "      <td>0</td>\n",
       "      <td>1</td>\n",
       "      <td>4860571499428580850</td>\n",
       "      <td>21560664</td>\n",
       "      <td>37484</td>\n",
       "      <td>2</td>\n",
       "      <td>2</td>\n",
       "      <td>2255103</td>\n",
       "      <td>317</td>\n",
       "      <td>48989</td>\n",
       "      <td>44771</td>\n",
       "      <td>490234</td>\n",
       "    </tr>\n",
       "    <tr>\n",
       "      <th>2</th>\n",
       "      <td>0</td>\n",
       "      <td>1</td>\n",
       "      <td>9704320783495875564</td>\n",
       "      <td>21748480</td>\n",
       "      <td>36759</td>\n",
       "      <td>3</td>\n",
       "      <td>3</td>\n",
       "      <td>4532751</td>\n",
       "      <td>60721</td>\n",
       "      <td>685038</td>\n",
       "      <td>29681</td>\n",
       "      <td>490234</td>\n",
       "    </tr>\n",
       "    <tr>\n",
       "      <th>3</th>\n",
       "      <td>0</td>\n",
       "      <td>1</td>\n",
       "      <td>13677630321509009335</td>\n",
       "      <td>3517124</td>\n",
       "      <td>23778</td>\n",
       "      <td>3</td>\n",
       "      <td>1</td>\n",
       "      <td>1601</td>\n",
       "      <td>2155</td>\n",
       "      <td>1207</td>\n",
       "      <td>1422</td>\n",
       "      <td>490234</td>\n",
       "    </tr>\n",
       "    <tr>\n",
       "      <th>4</th>\n",
       "      <td>0</td>\n",
       "      <td>1</td>\n",
       "      <td>3284760244799604489</td>\n",
       "      <td>20758093</td>\n",
       "      <td>34535</td>\n",
       "      <td>1</td>\n",
       "      <td>1</td>\n",
       "      <td>4532751</td>\n",
       "      <td>77819</td>\n",
       "      <td>266618</td>\n",
       "      <td>222223</td>\n",
       "      <td>490234</td>\n",
       "    </tr>\n",
       "  </tbody>\n",
       "</table>\n",
       "</div>"
      ],
      "text/plain": [
       "   Click  Impression            DisplayURL      AdID  AdvertiserID  Depth  \\\n",
       "0      0           1   4298118681424644510   7686695           385      3   \n",
       "1      0           1   4860571499428580850  21560664         37484      2   \n",
       "2      0           1   9704320783495875564  21748480         36759      3   \n",
       "3      0           1  13677630321509009335   3517124         23778      3   \n",
       "4      0           1   3284760244799604489  20758093         34535      1   \n",
       "\n",
       "   Position  QueryID  KeywordID  TitleID  DescriptionID  UserID  \n",
       "0         3     1601       5521     7709            576  490234  \n",
       "1         2  2255103        317    48989          44771  490234  \n",
       "2         3  4532751      60721   685038          29681  490234  \n",
       "3         1     1601       2155     1207           1422  490234  \n",
       "4         1  4532751      77819   266618         222223  490234  "
      ]
     },
     "execution_count": 8,
     "metadata": {},
     "output_type": "execute_result"
    }
   ],
   "source": [
    "# Show firt 5 rows of the training dataset\n",
    "data = pd.read_csv('.\\data\\kdd12\\kdd12_training.csv')\n",
    "data.head() "
   ]
  },
  {
   "cell_type": "markdown",
   "metadata": {},
   "source": [
    "The last four variables in the list above act as joining keys to secondary datasets containing the tokenized __search query phrases, the purchased keywords, title and descriptions for each ad, and user demographic data (age range and gender)__. Below I show sampled values for the __Query__ and __User__ datasets respectively:"
   ]
  },
  {
   "cell_type": "code",
   "execution_count": 8,
   "metadata": {},
   "outputs": [
    {
     "name": "stdout",
     "output_type": "stream",
     "text": [
      "Query Dataset:\n"
     ]
    },
    {
     "data": {
      "text/html": [
       "<div>\n",
       "<style scoped>\n",
       "    .dataframe tbody tr th:only-of-type {\n",
       "        vertical-align: middle;\n",
       "    }\n",
       "\n",
       "    .dataframe tbody tr th {\n",
       "        vertical-align: top;\n",
       "    }\n",
       "\n",
       "    .dataframe thead th {\n",
       "        text-align: right;\n",
       "    }\n",
       "</style>\n",
       "<table border=\"1\" class=\"dataframe\">\n",
       "  <thead>\n",
       "    <tr style=\"text-align: right;\">\n",
       "      <th></th>\n",
       "      <th>QueryID</th>\n",
       "      <th>QueryTokens</th>\n",
       "    </tr>\n",
       "  </thead>\n",
       "  <tbody>\n",
       "    <tr>\n",
       "      <th>0</th>\n",
       "      <td>0</td>\n",
       "      <td>12731</td>\n",
       "    </tr>\n",
       "    <tr>\n",
       "      <th>1</th>\n",
       "      <td>1</td>\n",
       "      <td>1545|75|31</td>\n",
       "    </tr>\n",
       "    <tr>\n",
       "      <th>2</th>\n",
       "      <td>2</td>\n",
       "      <td>383</td>\n",
       "    </tr>\n",
       "    <tr>\n",
       "      <th>3</th>\n",
       "      <td>3</td>\n",
       "      <td>518|1996</td>\n",
       "    </tr>\n",
       "    <tr>\n",
       "      <th>4</th>\n",
       "      <td>4</td>\n",
       "      <td>4189|75|31</td>\n",
       "    </tr>\n",
       "  </tbody>\n",
       "</table>\n",
       "</div>"
      ],
      "text/plain": [
       "   QueryID QueryTokens\n",
       "0        0       12731\n",
       "1        1  1545|75|31\n",
       "2        2         383\n",
       "3        3    518|1996\n",
       "4        4  4189|75|31"
      ]
     },
     "metadata": {},
     "output_type": "display_data"
    },
    {
     "name": "stdout",
     "output_type": "stream",
     "text": [
      "User Dataset:\n"
     ]
    },
    {
     "data": {
      "text/html": [
       "<div>\n",
       "<style scoped>\n",
       "    .dataframe tbody tr th:only-of-type {\n",
       "        vertical-align: middle;\n",
       "    }\n",
       "\n",
       "    .dataframe tbody tr th {\n",
       "        vertical-align: top;\n",
       "    }\n",
       "\n",
       "    .dataframe thead th {\n",
       "        text-align: right;\n",
       "    }\n",
       "</style>\n",
       "<table border=\"1\" class=\"dataframe\">\n",
       "  <thead>\n",
       "    <tr style=\"text-align: right;\">\n",
       "      <th></th>\n",
       "      <th>UserID</th>\n",
       "      <th>Gender</th>\n",
       "      <th>Age</th>\n",
       "    </tr>\n",
       "  </thead>\n",
       "  <tbody>\n",
       "    <tr>\n",
       "      <th>0</th>\n",
       "      <td>1</td>\n",
       "      <td>1</td>\n",
       "      <td>5</td>\n",
       "    </tr>\n",
       "    <tr>\n",
       "      <th>1</th>\n",
       "      <td>2</td>\n",
       "      <td>2</td>\n",
       "      <td>3</td>\n",
       "    </tr>\n",
       "    <tr>\n",
       "      <th>2</th>\n",
       "      <td>3</td>\n",
       "      <td>1</td>\n",
       "      <td>5</td>\n",
       "    </tr>\n",
       "    <tr>\n",
       "      <th>3</th>\n",
       "      <td>4</td>\n",
       "      <td>1</td>\n",
       "      <td>3</td>\n",
       "    </tr>\n",
       "    <tr>\n",
       "      <th>4</th>\n",
       "      <td>5</td>\n",
       "      <td>2</td>\n",
       "      <td>1</td>\n",
       "    </tr>\n",
       "  </tbody>\n",
       "</table>\n",
       "</div>"
      ],
      "text/plain": [
       "   UserID  Gender  Age\n",
       "0       1       1    5\n",
       "1       2       2    3\n",
       "2       3       1    5\n",
       "3       4       1    3\n",
       "4       5       2    1"
      ]
     },
     "metadata": {},
     "output_type": "display_data"
    }
   ],
   "source": [
    "# Display sample of Query and User datasets\n",
    "print(\"Query Dataset:\")\n",
    "display(pd.read_csv('.\\data\\kdd12\\kdd12_query.csv').head())\n",
    "print(\"User Dataset:\")\n",
    "display(pd.read_csv('.\\data\\kdd12\\kdd12_user.csv').head())"
   ]
  },
  {
   "cell_type": "markdown",
   "metadata": {},
   "source": [
    "Note that in the User table above, Gender is encoded as '1'-Male, '2'-Female and '0'-Unknown, whereas Age is encoded as '1'-'from 0 to 12 years', '2'-(12,18], '3'-(18,24], '4'-(24,30], '5'-(30,40] and '6'-'greater than 40'."
   ]
  },
  {
   "cell_type": "markdown",
   "metadata": {},
   "source": [
    "Since the original purpose of the competition was to predict the number of clicks in each instance, the target variable (clicks) and the impressions variable takes on non-negative integer values. In the figure below we see that in over 95% of the instances, the user did not click on the Ad:"
   ]
  },
  {
   "cell_type": "code",
   "execution_count": 4,
   "metadata": {},
   "outputs": [
    {
     "data": {
      "image/png": "[encoded data removed]",
      "text/plain": [
       "<Figure size 1500x500 with 2 Axes>"
      ]
     },
     "metadata": {},
     "output_type": "display_data"
    }
   ],
   "source": [
    "# Show plots of the percentage of records per click and impression count values\n",
    "click_counts = pd.read_csv('./data/kdd12/kdd12_click_counts.csv').sort_values(by='click')\n",
    "impression_counts = pd.read_csv('./data/kdd12/kdd12_impression_counts.csv').sort_values(by='impression')\n",
    "\n",
    "## Bin the click and impression counts\n",
    "click_counts['click_count_bin'] = np.where(\n",
    "    click_counts['click'] ==0, '0',\n",
    "    np.where(click_counts['click'] < 11, '1-10','>10'))\n",
    "click_counts = click_counts.groupby('click_count_bin').agg({'record_count':'sum'}).reset_index()\n",
    "\n",
    "impression_counts['impression_count_bin'] = np.where(\n",
    "    impression_counts['impression'] ==1, '1',\n",
    "    np.where(impression_counts['impression'] < 11, '2-10','>10'))\n",
    "impression_counts = impression_counts.groupby('impression_count_bin').agg({'record_count':'sum'}).reset_index()\n",
    "\n",
    "## Calculate the percentage of records per value count bin\n",
    "click_counts['percentage_of_total'] = click_counts['record_count']/click_counts['record_count'].sum()\n",
    "impression_counts['percentage_of_total'] = impression_counts['record_count']/impression_counts['record_count'].sum()\n",
    "\n",
    "## Plot the results \n",
    "fig, ax = plt.subplots(1,2,figsize=(15,5))\n",
    "ax[0].bar(click_counts['click_count_bin'], click_counts['percentage_of_total'])\n",
    "ax[0].set_title('Click Count Distribution')\n",
    "ax[0].set_xlabel('Click Count')\n",
    "ax[0].set_ylabel('Percentage of Total Records')\n",
    "ax[1].bar(impression_counts['impression_count_bin'], impression_counts['percentage_of_total'])\n",
    "ax[1].set_title('Impression Count Distribution')\n",
    "ax[1].set_xlabel('Impression Count')\n",
    "ax[1].set_ylabel('Percentage of Total Records')\n",
    "plt.show()"
   ]
  },
  {
   "cell_type": "markdown",
   "metadata": {},
   "source": [
    "To adjust this dataset to the task of __Click Through Rate predeiction__ as opposed to __Click volume prediction__, one can proceed by calculating the Click Through rate in each instance by dividing the number of clicks by the number of impressions, as done in (Cite Song, others)."
   ]
  },
  {
   "cell_type": "code",
   "execution_count": 7,
   "metadata": {},
   "outputs": [
    {
     "data": {
      "image/png": "[encoded data removed]",
      "text/plain": [
       "<Figure size 1000x500 with 1 Axes>"
      ]
     },
     "metadata": {},
     "output_type": "display_data"
    }
   ],
   "source": [
    "# Read in the CTR distribution dataset\n",
    "ctr_dist = pd.read_csv('./data/kdd12/kdd12_ctr_dist.csv')\n",
    "\n",
    "# Sort the dataset ctr buckets\n",
    "sort_dict = {\n",
    "    '0':0,\n",
    "    '(0,0.5]':1,\n",
    "    '(0.5,1)':2,\n",
    "    '1':3\n",
    "}\n",
    "ctr_dist = ctr_dist.sort_values(by='ctr_bin', key=lambda x: x.map(sort_dict))\n",
    "\n",
    "# Calculate the percentage of records per CTR bucket\n",
    "ctr_dist['percentage_of_total'] = ctr_dist['record_count']/ctr_dist['record_count'].sum()\n",
    "\n",
    "# Plot the CTR distribution\n",
    "plt.figure(figsize=(10,5))\n",
    "plt.bar(ctr_dist['ctr_bin'], ctr_dist['percentage_of_total'])\n",
    "plt.title('CTR Distribution')\n",
    "plt.xlabel('CTR Bucket')\n",
    "plt.ylabel('Percentage of Total Records')\n",
    "plt.show()\n"
   ]
  },
  {
   "cell_type": "markdown",
   "metadata": {},
   "source": [
    "The task for CTR prediction with this dataset is therefor characterized by defining the influence that the different features and interactions have on the CTR. Out of the features listed above, only __Depth__ and __Position__ are non-categorical, and each of these take on values from 1 to 3:"
   ]
  },
  {
   "cell_type": "code",
   "execution_count": 11,
   "metadata": {},
   "outputs": [
    {
     "data": {
      "image/png": "[encoded data removed]",
      "text/plain": [
       "<Figure size 1500x500 with 2 Axes>"
      ]
     },
     "metadata": {},
     "output_type": "display_data"
    }
   ],
   "source": [
    "# Add ctr metric to the training dataset sample\n",
    "\n",
    "data['ctr'] = data['Click']/data['Impression']\n",
    "\n",
    "# Plot CTR vs Depth and Position\n",
    "fig, ax = plt.subplots(1,2,figsize=(15,5))\n",
    "ax[0].scatter(data['Depth'], data['ctr'],alpha=0.1)\n",
    "ax[0].set_title('CTR vs Depth - Sample of Training Data')\n",
    "ax[0].set_xlabel('Depth')\n",
    "ax[0].set_ylabel('CTR')\n",
    "ax[1].scatter(data['Position'], data['ctr'],alpha=0.1)\n",
    "ax[1].set_title('CTR vs Position - Sample of Training Data')\n",
    "ax[1].set_xlabel('Position')\n",
    "ax[1].set_ylabel('CTR')\n",
    "plt.show()"
   ]
  },
  {
   "cell_type": "markdown",
   "metadata": {},
   "source": [
    "## Avazu"
   ]
  },
  {
   "cell_type": "markdown",
   "metadata": {},
   "source": [
    "## Criteo"
   ]
  },
  {
   "cell_type": "markdown",
   "metadata": {},
   "source": [
    "# Simulatinons"
   ]
  },
  {
   "cell_type": "markdown",
   "metadata": {},
   "source": [
    "# Summary of findings"
   ]
  },
  {
   "cell_type": "markdown",
   "metadata": {},
   "source": [
    "# Suggested Future Research"
   ]
  },
  {
   "cell_type": "markdown",
   "metadata": {},
   "source": [
    "<a class=\"anchor\" id=\"references\"></a>\n",
    "\n",
    "# References\n",
    "\n",
    "<a class=\"anchor\" id=\"eMarketer\"></a>\n",
    "\n",
    "- eMarketer. (2023). Digital advertising spending worldwide from 2021 to 2027 (in billion U.S. dollars) . Statista. Statista Inc.. Accessed: June 09, 2024. https://www-statista-com.iclibezp1.cc.ic.ac.uk/statistics/237974/online-advertising-spending-worldwide/\n",
    "\n",
    "<a class=\"anchor\" id=\"kdd12\"></a>\n",
    "\n",
    "- Aden, Yi Wang. (2012). KDD Cup 2012, Track 2. Kaggle. https://kaggle.com/competitions/kddcup2012-track2\n",
    "\n",
    "<a class=\"anchor\" id=\"avazu\"></a>\n",
    "\n",
    "- Steve Wang, Will Cukierski. (2014). Click-Through Rate Prediction. Kaggle. https://kaggle.com/competitions/avazu-ctr-prediction\n",
    "\n",
    "<a class=\"anchor\" id=\"criteo\"></a>\n",
    "\n",
    "- Jean-Baptiste Tien, joycenv, Olivier Chapelle. (2014). Display Advertising Challenge. Kaggle. https://kaggle.com/competitions/criteo-display-ad-challenge"
   ]
  }
 ],
 "metadata": {
  "kernelspec": {
   "display_name": "base",
   "language": "python",
   "name": "python3"
  },
  "language_info": {
   "codemirror_mode": {
    "name": "ipython",
    "version": 3
   },
   "file_extension": ".py",
   "mimetype": "text/x-python",
   "name": "python",
   "nbconvert_exporter": "python",
   "pygments_lexer": "ipython3",
   "version": "3.11.5"
  }
 },
 "nbformat": 4,
 "nbformat_minor": 2
}
